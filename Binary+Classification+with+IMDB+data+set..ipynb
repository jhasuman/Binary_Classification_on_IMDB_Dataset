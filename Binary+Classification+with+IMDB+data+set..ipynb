{
 "cells": [
  {
   "cell_type": "markdown",
   "metadata": {},
   "source": [
    "#### Binary classification of IMDB dataset in Keras\n",
    "\n",
    "This notebook is for the binary classification of **IMDB dataset** in Keras. Since IMDB dataset comes packaged with the Keras so you don't have to download it from any website. \n",
    "\n",
    "The IMDB dataset a set of 50,000 reviews from the Internet Movie Database. The dataset split into 25,000 reviews for training and 25,000 reviews for testing, each set consisting in 50% negative and 50% positive reviews.\n",
    "\n",
    "The IMDB dataset comes packaged with Keras and it is also preprocessed. The reviews (sequences of words) have been turned into sequences of integers, where each integer stands for a specific word in a dectionary. *We can see the sequences of integers once we will load the dataset*.  \n"
   ]
  },
  {
   "cell_type": "code",
   "execution_count": 6,
   "metadata": {
    "collapsed": true
   },
   "outputs": [],
   "source": [
    "# import the libraries \n",
    "import numpy as np\n",
    "from keras import models\n",
    "from keras import layers\n",
    "import matplotlib.pyplot as plt\n",
    "%matplotlib inline"
   ]
  },
  {
   "cell_type": "code",
   "execution_count": 11,
   "metadata": {
    "collapsed": true
   },
   "outputs": [],
   "source": [
    "# Loading the dataset\n",
    "from keras.datasets import imdb\n",
    "(train_data, train_labels), (test_data, test_labels) = imdb.load_data(num_words=15000) #The argument 15,000 means we are \n",
    "# only keeping most frequent 15,000 words. \n",
    "#The variables train_data and text_data \n",
    "# are lists of reviews, train_labels and test_labels are lists of 0s and 1s for negative and positive reviews respectively.  "
   ]
  },
  {
   "cell_type": "code",
   "execution_count": 12,
   "metadata": {},
   "outputs": [
    {
     "data": {
      "text/plain": [
       "[1,\n",
       " 194,\n",
       " 1153,\n",
       " 194,\n",
       " 8255,\n",
       " 78,\n",
       " 228,\n",
       " 5,\n",
       " 6,\n",
       " 1463,\n",
       " 4369,\n",
       " 5012,\n",
       " 134,\n",
       " 26,\n",
       " 4,\n",
       " 715,\n",
       " 8,\n",
       " 118,\n",
       " 1634,\n",
       " 14,\n",
       " 394,\n",
       " 20,\n",
       " 13,\n",
       " 119,\n",
       " 954,\n",
       " 189,\n",
       " 102,\n",
       " 5,\n",
       " 207,\n",
       " 110,\n",
       " 3103,\n",
       " 21,\n",
       " 14,\n",
       " 69,\n",
       " 188,\n",
       " 8,\n",
       " 30,\n",
       " 23,\n",
       " 7,\n",
       " 4,\n",
       " 249,\n",
       " 126,\n",
       " 93,\n",
       " 4,\n",
       " 114,\n",
       " 9,\n",
       " 2300,\n",
       " 1523,\n",
       " 5,\n",
       " 647,\n",
       " 4,\n",
       " 116,\n",
       " 9,\n",
       " 35,\n",
       " 8163,\n",
       " 4,\n",
       " 229,\n",
       " 9,\n",
       " 340,\n",
       " 1322,\n",
       " 4,\n",
       " 118,\n",
       " 9,\n",
       " 4,\n",
       " 130,\n",
       " 4901,\n",
       " 19,\n",
       " 4,\n",
       " 1002,\n",
       " 5,\n",
       " 89,\n",
       " 29,\n",
       " 952,\n",
       " 46,\n",
       " 37,\n",
       " 4,\n",
       " 455,\n",
       " 9,\n",
       " 45,\n",
       " 43,\n",
       " 38,\n",
       " 1543,\n",
       " 1905,\n",
       " 398,\n",
       " 4,\n",
       " 1649,\n",
       " 26,\n",
       " 6853,\n",
       " 5,\n",
       " 163,\n",
       " 11,\n",
       " 3215,\n",
       " 10156,\n",
       " 4,\n",
       " 1153,\n",
       " 9,\n",
       " 194,\n",
       " 775,\n",
       " 7,\n",
       " 8255,\n",
       " 11596,\n",
       " 349,\n",
       " 2637,\n",
       " 148,\n",
       " 605,\n",
       " 2,\n",
       " 8003,\n",
       " 15,\n",
       " 123,\n",
       " 125,\n",
       " 68,\n",
       " 2,\n",
       " 6853,\n",
       " 15,\n",
       " 349,\n",
       " 165,\n",
       " 4362,\n",
       " 98,\n",
       " 5,\n",
       " 4,\n",
       " 228,\n",
       " 9,\n",
       " 43,\n",
       " 2,\n",
       " 1157,\n",
       " 15,\n",
       " 299,\n",
       " 120,\n",
       " 5,\n",
       " 120,\n",
       " 174,\n",
       " 11,\n",
       " 220,\n",
       " 175,\n",
       " 136,\n",
       " 50,\n",
       " 9,\n",
       " 4373,\n",
       " 228,\n",
       " 8255,\n",
       " 5,\n",
       " 2,\n",
       " 656,\n",
       " 245,\n",
       " 2350,\n",
       " 5,\n",
       " 4,\n",
       " 9837,\n",
       " 131,\n",
       " 152,\n",
       " 491,\n",
       " 18,\n",
       " 2,\n",
       " 32,\n",
       " 7464,\n",
       " 1212,\n",
       " 14,\n",
       " 9,\n",
       " 6,\n",
       " 371,\n",
       " 78,\n",
       " 22,\n",
       " 625,\n",
       " 64,\n",
       " 1382,\n",
       " 9,\n",
       " 8,\n",
       " 168,\n",
       " 145,\n",
       " 23,\n",
       " 4,\n",
       " 1690,\n",
       " 15,\n",
       " 16,\n",
       " 4,\n",
       " 1355,\n",
       " 5,\n",
       " 28,\n",
       " 6,\n",
       " 52,\n",
       " 154,\n",
       " 462,\n",
       " 33,\n",
       " 89,\n",
       " 78,\n",
       " 285,\n",
       " 16,\n",
       " 145,\n",
       " 95]"
      ]
     },
     "execution_count": 12,
     "metadata": {},
     "output_type": "execute_result"
    }
   ],
   "source": [
    "# Let's check train_data \n",
    "train_data[1] #We can see sequence of integer (Every integer represents some specific word in a dectionary)"
   ]
  },
  {
   "cell_type": "code",
   "execution_count": 13,
   "metadata": {},
   "outputs": [
    {
     "data": {
      "text/plain": [
       "0"
      ]
     },
     "execution_count": 13,
     "metadata": {},
     "output_type": "execute_result"
    }
   ],
   "source": [
    "# Let's check label_data\n",
    "train_labels[1] #The movie review of train_data is negative "
   ]
  },
  {
   "cell_type": "code",
   "execution_count": 18,
   "metadata": {
    "collapsed": true
   },
   "outputs": [],
   "source": [
    "#Data Prepration \n",
    "#The current data set is in sequence of integer so we have to convert into vectorize form.\n",
    "#let's vectorize our data\n",
    "#Let's vectorize movie sequence of integer\n",
    "\n",
    "def vectorize_sequences(sequences, dimension=15000):\n",
    "    results = np.zeros((len(sequences), dimension)) #We are creating an all-zero matrix of shape (len(sequences), dimension)\n",
    "    for i, sequence in enumerate(sequences):\n",
    "        results[i, sequence] = 1\n",
    "    return results\n",
    "\n",
    "#Traning data after vectoriziation\n",
    "x_train = vectorize_sequences(train_data)\n",
    "#Test data after vectorization\n",
    "x_test = vectorize_sequences(test_data)"
   ]
  },
  {
   "cell_type": "code",
   "execution_count": 19,
   "metadata": {},
   "outputs": [
    {
     "data": {
      "text/plain": [
       "array([ 0.,  1.,  1., ...,  0.,  0.,  0.])"
      ]
     },
     "execution_count": 19,
     "metadata": {},
     "output_type": "execute_result"
    }
   ],
   "source": [
    "#Let's check \n",
    "x_train[1]"
   ]
  },
  {
   "cell_type": "code",
   "execution_count": 20,
   "metadata": {
    "collapsed": true
   },
   "outputs": [],
   "source": [
    "#Let's vectorize labels\n",
    "y_train = np.asarray(train_labels).astype('float32')\n",
    "y_test = np.asarray(test_labels).astype('float32')"
   ]
  },
  {
   "cell_type": "code",
   "execution_count": 21,
   "metadata": {
    "collapsed": true
   },
   "outputs": [],
   "source": [
    "#Building the network \n",
    "#We are building 3 layer network, hidden unit in intermediate layers (layer 1 and layer 2) is 16 and \n",
    "#third layer which will output the prediction. \n",
    "#We fully connected dense layer because it's a 2D tensor and input id vector and output is scaler. \n",
    "#Activation function relu for hidden layer and sigmoid for output layer\n",
    "\n",
    "model = models.Sequential()\n",
    "model.add(layers.Dense(16, activation='relu', input_shape=(15000,)))\n",
    "model.add(layers.Dense(16, activation='relu'))\n",
    "model.add(layers.Dense(1, activation='sigmoid'))"
   ]
  },
  {
   "cell_type": "code",
   "execution_count": 23,
   "metadata": {
    "collapsed": true
   },
   "outputs": [],
   "source": [
    "# Compiling ou model\n",
    "# We are using optimizer(optimizer optmize the weight based on feedback from accuracy) as rmsprop, \n",
    "# loss function(the distance between prediction and ground truth) as binary_crossentropy.\n",
    "model.compile(optimizer='rmsprop', loss='binary_crossentropy', metrics=['accuracy'])"
   ]
  },
  {
   "cell_type": "code",
   "execution_count": 25,
   "metadata": {
    "collapsed": true
   },
   "outputs": [],
   "source": [
    "#Creating validation set of 10000\n",
    "x_val = x_train[:10000]\n",
    "validation_x_train = x_train[10000:]\n",
    "\n",
    "y_val = y_train[:10000]\n",
    "validation_y_train = y_train[10000:]"
   ]
  },
  {
   "cell_type": "code",
   "execution_count": 27,
   "metadata": {},
   "outputs": [
    {
     "name": "stdout",
     "output_type": "stream",
     "text": [
      "Train on 15000 samples, validate on 10000 samples\n",
      "Epoch 1/10\n",
      "15000/15000 [==============================] - 2s - loss: 8.1632e-04 - acc: 1.0000 - val_loss: 0.8098 - val_acc: 0.8670\n",
      "Epoch 2/10\n",
      "15000/15000 [==============================] - 2s - loss: 3.6247e-04 - acc: 1.0000 - val_loss: 0.8139 - val_acc: 0.8675\n",
      "Epoch 3/10\n",
      "15000/15000 [==============================] - 2s - loss: 2.5568e-04 - acc: 1.0000 - val_loss: 0.8835 - val_acc: 0.8638\n",
      "Epoch 4/10\n",
      "15000/15000 [==============================] - 2s - loss: 7.7088e-04 - acc: 0.9998 - val_loss: 0.9099 - val_acc: 0.8660\n",
      "Epoch 5/10\n",
      "15000/15000 [==============================] - 2s - loss: 1.1088e-04 - acc: 1.0000 - val_loss: 0.9197 - val_acc: 0.8675\n",
      "Epoch 6/10\n",
      "15000/15000 [==============================] - 2s - loss: 8.2922e-05 - acc: 1.0000 - val_loss: 0.9407 - val_acc: 0.8669\n",
      "Epoch 7/10\n",
      "15000/15000 [==============================] - 2s - loss: 5.9840e-05 - acc: 1.0000 - val_loss: 1.0008 - val_acc: 0.8647\n",
      "Epoch 8/10\n",
      "15000/15000 [==============================] - 2s - loss: 2.5335e-04 - acc: 1.0000 - val_loss: 1.0339 - val_acc: 0.8661\n",
      "Epoch 9/10\n",
      "15000/15000 [==============================] - 2s - loss: 2.2388e-05 - acc: 1.0000 - val_loss: 1.0382 - val_acc: 0.8654\n",
      "Epoch 10/10\n",
      "15000/15000 [==============================] - 2s - loss: 1.8128e-05 - acc: 1.0000 - val_loss: 1.0552 - val_acc: 0.8654\n"
     ]
    }
   ],
   "source": [
    "# Traning our model\n",
    "# We have used 25 epochs with batch_size=512. We have used history so our model could remember the traning\n",
    "history = model.fit(validation_x_train, validation_y_train, epochs=10, batch_size=512, validation_data=(x_val, y_val))"
   ]
  },
  {
   "cell_type": "markdown",
   "metadata": {
    "collapsed": true
   },
   "source": [
    "Actually accuray for above model is **100%** but validation accuray is **86.54%** **which means model is not performing on unseen data the way it is performing on test data**. This is called overfitting. There are various methods which can be used to reduce overfitting."
   ]
  },
  {
   "cell_type": "code",
   "execution_count": 28,
   "metadata": {},
   "outputs": [
    {
     "data": {
      "text/plain": [
       "dict_keys(['val_loss', 'acc', 'val_acc', 'loss'])"
      ]
     },
     "execution_count": 28,
     "metadata": {},
     "output_type": "execute_result"
    }
   ],
   "source": [
    "# history dictionary\n",
    "history_dict = history.history\n",
    "#find entries in history dictionary\n",
    "history_dict.keys()"
   ]
  },
  {
   "cell_type": "markdown",
   "metadata": {},
   "source": [
    "History dictionary conatins 4 entries as we had earlier. "
   ]
  },
  {
   "cell_type": "code",
   "execution_count": 31,
   "metadata": {},
   "outputs": [
    {
     "data": {
      "image/png": "[encoded data removed]",
      "text/plain": [
       "<matplotlib.figure.Figure at 0x7f1ecaa445f8>"
      ]
     },
     "metadata": {},
     "output_type": "display_data"
    }
   ],
   "source": [
    "# Accuracy visuliziation\n",
    "#Plotting Traning loss and validation loss\n",
    "\n",
    "loss_values = history_dict['loss']\n",
    "val_loss_values = history_dict['val_loss']\n",
    "epochs = range(1, len(loss_values) + 1)\n",
    "plt.plot(epochs, loss_values, 'bo') # \"bo\" is for \"blue dot\"\n",
    "plt.plot(epochs, val_loss_values, 'b+') # b+ is for \"blue crosses\"\n",
    "plt.xlabel('Epochs')\n",
    "plt.ylabel('Loss')\n",
    "plt.show()"
   ]
  },
  {
   "cell_type": "markdown",
   "metadata": {},
   "source": [
    "Graph shows the loss_valus was always zero from epochs 1 to 10 but validation loss value was increasing with every passing epochs."
   ]
  },
  {
   "cell_type": "code",
   "execution_count": 30,
   "metadata": {},
   "outputs": [
    {
     "data": {
      "image/png": "[encoded data removed]",
      "text/plain": [
       "<matplotlib.figure.Figure at 0x7f1eb8cbf358>"
      ]
     },
     "metadata": {},
     "output_type": "display_data"
    }
   ],
   "source": [
    "#Plotting traning and validation accuracy\n",
    "\n",
    "plt.clf() # clear figure\n",
    "acc_values = history_dict['acc']\n",
    "val_acc_values = history_dict['val_acc']\n",
    "\n",
    "plt.plot(epochs, acc_values, 'bo')\n",
    "plt.plot(epochs, val_acc_values, 'b+')\n",
    "plt.xlabel('Epochs')\n",
    "plt.ylabel('Accuracy')\n",
    "plt.show()"
   ]
  },
  {
   "cell_type": "markdown",
   "metadata": {},
   "source": [
    "Above graph shows traning accuracy was always 100% but validation accuracy was some what linear and close to 87%"
   ]
  },
  {
   "cell_type": "code",
   "execution_count": 32,
   "metadata": {},
   "outputs": [
    {
     "data": {
      "text/plain": [
       "array([[  1.00000000e+00],\n",
       "       [  9.43055212e-01],\n",
       "       [  1.00000000e+00],\n",
       "       ..., \n",
       "       [  9.99999046e-01],\n",
       "       [  4.03508671e-10],\n",
       "       [  9.90481555e-01]], dtype=float32)"
      ]
     },
     "execution_count": 32,
     "metadata": {},
     "output_type": "execute_result"
    }
   ],
   "source": [
    "# Let's test our model on test data\n",
    "model.predict(x_test)"
   ]
  },
  {
   "cell_type": "markdown",
   "metadata": {},
   "source": [
    "We can do some experiments for increasing the accuracy. \n",
    "1. Try to use more than 2 hidden layers \n",
    "2. Increase and decrease the size of epochs\n",
    "3. Try different activalition function, optimizer and loss function."
   ]
  },
  {
   "cell_type": "code",
   "execution_count": null,
   "metadata": {
    "collapsed": true
   },
   "outputs": [],
   "source": []
  }
 ],
 "metadata": {
  "hide_input": false,
  "kernelspec": {
   "display_name": "Python 3",
   "language": "python",
   "name": "python3"
  },
  "language_info": {
   "codemirror_mode": {
    "name": "ipython",
    "version": 3
   },
   "file_extension": ".py",
   "mimetype": "text/x-python",
   "name": "python",
   "nbconvert_exporter": "python",
   "pygments_lexer": "ipython3",
   "version": "3.4.3"
  }
 },
 "nbformat": 4,
 "nbformat_minor": 2
}
